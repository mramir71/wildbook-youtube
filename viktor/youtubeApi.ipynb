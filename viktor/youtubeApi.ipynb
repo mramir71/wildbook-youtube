{
 "cells": [
  {
   "cell_type": "code",
   "execution_count": 1,
   "metadata": {},
   "outputs": [],
   "source": [
    "from classes.YouTube import YouTube\n",
    "from classes.Database import Database\n",
    "from misc import readKey\n",
    "\n",
    "DB_KEY = readKey(\"db.key.txt\")\n",
    "db = Database(DB_KEY, 'youtube')\n",
    "\n",
    "YT_KEY = readKey('yt.key.txt')\n",
    "yt = YouTube(YT_KEY, db)"
   ]
  },
  {
   "cell_type": "code",
   "execution_count": 2,
   "metadata": {},
   "outputs": [
    {
     "data": {
      "text/plain": [
       "[{'videoID': 'E9tpPWK7sag',\n",
       "  'title': {'original': 'Investigating the Mysterious Whale Sharks of Mafia Island | National Geographic',\n",
       "   'eng': None},\n",
       "  'tags': {'original': ['whale sharks',\n",
       "    'Mafia Island',\n",
       "    'Tanzania',\n",
       "    'endangered species',\n",
       "    'sharks',\n",
       "    'animal migration',\n",
       "    'fish',\n",
       "    'Marine Megafauna Foundation',\n",
       "    'research',\n",
       "    'ecosystem',\n",
       "    'sustained fisheries',\n",
       "    'mackerel',\n",
       "    'tuna',\n",
       "    'conservation',\n",
       "    'national geographic',\n",
       "    'nat geo',\n",
       "    'natgeo',\n",
       "    'animals',\n",
       "    'wildlife',\n",
       "    'science',\n",
       "    'explore',\n",
       "    'discover',\n",
       "    'survival',\n",
       "    'nature',\n",
       "    'documentary',\n",
       "    'PLivjPDlt6ApRfQqtRw7JkGCLvezGeMBB2',\n",
       "    'PLivjPDlt6ApRiBHpsyXWG22G8RPNZ6jlb',\n",
       "    'PLivjPDlt6ApTjurXykShuUqp7LQcj9s8s'],\n",
       "   'eng': []},\n",
       "  'description': {'original': \"The whale sharks of Mafia Island are unusual because they don't migrate—and researchers want to know why.\\n➡ Subscribe: http://bit.ly/NatGeoSubscribe\\n\\nAbout National Geographic:\\nNational Geographic is the world's premium destination for science, exploration, and adventure. Through their world-class scientists, photographers, journalists, and filmmakers, Nat Geo gets you closer to the stories that matter and past the edge of what's possible.\\n\\nGet More National Geographic:\\nOfficial Site: http://bit.ly/NatGeoOfficialSite\\nFacebook: http://bit.ly/FBNatGeo\\nTwitter: http://bit.ly/NatGeoTwitter\\nInstagram: http://bit.ly/NatGeoInsta\\n\\nThe whale sharks of Mafia Island are attracting scientific interest because of their unusual behavior: Unlike other whale sharks, which migrate, these whale sharks stay near the island all year long. Why is the ocean's largest fish hanging around this island off the coast of Tanzania? Researchers from the Marine Megafauna Foundation are investigating this mystery, as well as learning more about the endangered whale shark, since knowledge on them is very limited. \\n\\nRead related article by Alexandra Petri: http://news.nationalgeographic.com/2017/01/whale-sharks-mafia-island-video/\\n\\nLearn more about whale sharks: http://animals.nationalgeographic.com/animals/fish/whale-shark/\\n\\nFIELD PRODUCER & VIDEOGRAPHER: Steve De Neef  \\nPRODUCER: J.P. Polo  \\nVIDEO & GRAPHICS EDITOR: Jennifer Murphy  \\nADDITIONAL FOOTAGE: Marine Megafauna Foundation\\n\\nInvestigating the Mysterious Whale Sharks of Mafia Island | National Geographic\\nhttps://youtu.be/E9tpPWK7sag\\n\\nNational Geographic\\nhttps://www.youtube.com/natgeo\",\n",
       "   'eng': None},\n",
       "  'OCR': {'original': [], 'eng': []},\n",
       "  'url': 'https://youtu.be/E9tpPWK7sag',\n",
       "  'animalsID': [],\n",
       "  'curationStatus': None,\n",
       "  'curationDecision': None,\n",
       "  'publishedAt': '2017-01-24T13:00:05.000Z',\n",
       "  'uploadedAt': None,\n",
       "  'duration': None,\n",
       "  'regionRestriction': None,\n",
       "  'viewCount': '440048',\n",
       "  'likeCount': '2826',\n",
       "  'dislikeCount': '109',\n",
       "  'recordingDetails': {'location': None, 'date': None},\n",
       "  'encounter': {'locationIDs': [], 'dates': []},\n",
       "  'fileDetails': None}]"
      ]
     },
     "execution_count": 2,
     "metadata": {},
     "output_type": "execute_result"
    }
   ],
   "source": [
    "yt.search('Whale shark', limit=1, fields=True, save=False)"
   ]
  },
  {
   "cell_type": "code",
   "execution_count": null,
   "metadata": {
    "scrolled": false
   },
   "outputs": [],
   "source": []
  },
  {
   "cell_type": "code",
   "execution_count": null,
   "metadata": {},
   "outputs": [],
   "source": [
    "yt.results"
   ]
  },
  {
   "cell_type": "code",
   "execution_count": null,
   "metadata": {
    "scrolled": false
   },
   "outputs": [],
   "source": [
    "db.getAllVideos()"
   ]
  },
  {
   "cell_type": "code",
   "execution_count": null,
   "metadata": {},
   "outputs": [],
   "source": [
    "db.clearCollection('yes')"
   ]
  },
  {
   "cell_type": "code",
   "execution_count": null,
   "metadata": {},
   "outputs": [],
   "source": []
  },
  {
   "cell_type": "code",
   "execution_count": null,
   "metadata": {},
   "outputs": [],
   "source": []
  }
 ],
 "metadata": {
  "kernelspec": {
   "display_name": "Python 3",
   "language": "python",
   "name": "python3"
  },
  "language_info": {
   "codemirror_mode": {
    "name": "ipython",
    "version": 3
   },
   "file_extension": ".py",
   "mimetype": "text/x-python",
   "name": "python",
   "nbconvert_exporter": "python",
   "pygments_lexer": "ipython3",
   "version": "3.7.1"
  }
 },
 "nbformat": 4,
 "nbformat_minor": 2
}
