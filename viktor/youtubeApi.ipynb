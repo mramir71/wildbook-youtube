{
 "cells": [
  {
   "cell_type": "code",
   "execution_count": 60,
   "metadata": {},
   "outputs": [],
   "source": [
    "from googleapiclient.discovery import build\n",
    "\n",
    "# Reading DEVELOPER_KEY from key.txt\n",
    "def readKey(filename):\n",
    "    key = None\n",
    "    try:\n",
    "        f = open(filename, \"r\")\n",
    "        contents = f.read()\n",
    "        if (contents == ''):\n",
    "            raise\n",
    "        else:\n",
    "            key = contents\n",
    "    except:\n",
    "        print(\"Please paste your API key in '\" + filename + \"' file\")\n",
    "        f = open(filename, \"w\")\n",
    "    f.close()\n",
    "    return key\n",
    "\n",
    "DEVELOPER_KEY = readKey('key.txt')\n",
    "YOUTUBE_API_SERVICE_NAME = 'youtube'\n",
    "YOUTUBE_API_VERSION = 'v3'"
   ]
  },
  {
   "cell_type": "code",
   "execution_count": null,
   "metadata": {},
   "outputs": [],
   "source": []
  },
  {
   "cell_type": "code",
   "execution_count": 73,
   "metadata": {},
   "outputs": [],
   "source": [
    "class YouTube:\n",
    "    def __init__(self, KEY):\n",
    "        self._YOUTUBE_API_SERVICE_NAME = 'youtube'\n",
    "        self._YOUTUBE_API_VERSION = 'v3'\n",
    "        self._KEY = KEY\n",
    "        self.searchOptions = {\n",
    "            'part': 'snippet',\n",
    "            'fields': 'items(id,snippet(publishedAt,title,description))',\n",
    "        }\n",
    "        self.youtube = build(self._YOUTUBE_API_SERVICE_NAME, self._YOUTUBE_API_VERSION, \n",
    "                             developerKey=self._KEY)\n",
    "        \n",
    "        self.lastSearch = None\n",
    "        self.results = []\n",
    "    \n",
    "    def search(self, q, limit=1, links=False, videoOnly=False):\n",
    "        ''' \n",
    "        q - search query, (ex. \"Whale Shark\")\n",
    "        limit - number of results (ex. 10 or 100)\n",
    "        links - Generate YouTube video links for each search result. \n",
    "                   Can be found in video['url'] (ex. True, False) \n",
    "        videosOnly - Return only videos from the result (ex. True, False)\n",
    "        '''\n",
    "        \n",
    "        searchResult = self.youtube.search().list(\n",
    "            q=q,\n",
    "            part=self.searchOptions['part'],\n",
    "            fields=self.searchOptions['fields'],\n",
    "            type='video' if videoOnly else 'video,channel,playlist',\n",
    "            maxResults=limit\n",
    "          ).execute()\n",
    "        \n",
    "        self.lastSearch = searchResult['items']\n",
    "        \n",
    "        # Generating YouTube video links\n",
    "        if (links):\n",
    "            for item in self.lastSearch:\n",
    "                if (item['id']['kind'] == 'youtube#video'):\n",
    "                    item['url'] = 'https://youtu.be/' + item['id']['videoId']\n",
    "                elif (item['id']['kind'] == 'youtube#channel'):\n",
    "                    item['url'] = 'https://www.youtube.com/channel/' + item['id']['channelId']\n",
    "                \n",
    "        # Appeding result to all previous search results\n",
    "        self.results = self.lastSearch + self.results\n",
    "                \n",
    "        return self.lastSearch\n",
    "\n",
    "yt = YouTube(DEVELOPER_KEY)"
   ]
  },
  {
   "cell_type": "code",
   "execution_count": 80,
   "metadata": {},
   "outputs": [
    {
     "data": {
      "text/plain": [
       "[{'id': {'kind': 'youtube#video', 'videoId': 'E4fr_2Z3rgw'},\n",
       "  'snippet': {'publishedAt': '2019-06-24T07:00:00.000Z',\n",
       "   'title': 'САМЫЕ ВКУСНЫЕ АМЕРИКАНСКИЕ СЛАДОСТИ? БРЕЙН И ДАША ПРОБУЮТ ВКУСНЯШКИ!',\n",
       "   'description': 'Олег Брейн и Даша Рейн пробуют различные необычные вкусняшки и сладости из Америки! Плейлист с едой тут...'}}]"
      ]
     },
     "execution_count": 80,
     "metadata": {},
     "output_type": "execute_result"
    }
   ],
   "source": [
    "yt.search('TheBrainDit', limit=1, videoOnly=True)\n",
    "yt.lastSearch"
   ]
  },
  {
   "cell_type": "code",
   "execution_count": 81,
   "metadata": {},
   "outputs": [
    {
     "data": {
      "text/plain": [
       "[{'id': {'kind': 'youtube#video', 'videoId': 'E4fr_2Z3rgw'},\n",
       "  'snippet': {'publishedAt': '2019-06-24T07:00:00.000Z',\n",
       "   'title': 'САМЫЕ ВКУСНЫЕ АМЕРИКАНСКИЕ СЛАДОСТИ? БРЕЙН И ДАША ПРОБУЮТ ВКУСНЯШКИ!',\n",
       "   'description': 'Олег Брейн и Даша Рейн пробуют различные необычные вкусняшки и сладости из Америки! Плейлист с едой тут...'}},\n",
       " {'id': {'kind': 'youtube#video', 'videoId': 'E4fr_2Z3rgw'},\n",
       "  'snippet': {'publishedAt': '2019-06-24T07:00:00.000Z',\n",
       "   'title': 'САМЫЕ ВКУСНЫЕ АМЕРИКАНСКИЕ СЛАДОСТИ? БРЕЙН И ДАША ПРОБУЮТ ВКУСНЯШКИ!',\n",
       "   'description': 'Олег Брейн и Даша Рейн пробуют различные необычные вкусняшки и сладости из Америки! Плейлист с едой тут...'}},\n",
       " {'id': {'kind': 'youtube#video', 'videoId': 'mrGLBGXupHQ'},\n",
       "  'snippet': {'publishedAt': '2019-06-24T06:00:05.000Z',\n",
       "   'title': 'ЗЛАЯ МОНАШКА ВЕРНУЛАСЬ...',\n",
       "   'description': 'Evil Nun: Ужас в школе - первый взгляд и обзор игры про зловещую монахиню! Что скрывает это злачное место? Давайт...'}},\n",
       " {'id': {'kind': 'youtube#video', 'videoId': 'E4fr_2Z3rgw'},\n",
       "  'snippet': {'publishedAt': '2019-06-24T07:00:00.000Z',\n",
       "   'title': 'САМЫЕ ВКУСНЫЕ АМЕРИКАНСКИЕ СЛАДОСТИ? БРЕЙН И ДАША ПРОБУЮТ ВКУСНЯШКИ!',\n",
       "   'description': 'Олег Брейн и Даша Рейн пробуют различные необычные вкусняшки и сладости из Америки! Плейлист с едой тут...'},\n",
       "  'url': 'https://youtu.be/E4fr_2Z3rgw'}]"
      ]
     },
     "execution_count": 81,
     "metadata": {},
     "output_type": "execute_result"
    }
   ],
   "source": [
    "yt.results"
   ]
  },
  {
   "cell_type": "code",
   "execution_count": null,
   "metadata": {},
   "outputs": [],
   "source": []
  }
 ],
 "metadata": {
  "kernelspec": {
   "display_name": "Python 3",
   "language": "python",
   "name": "python3"
  },
  "language_info": {
   "codemirror_mode": {
    "name": "ipython",
    "version": 3
   },
   "file_extension": ".py",
   "mimetype": "text/x-python",
   "name": "python",
   "nbconvert_exporter": "python",
   "pygments_lexer": "ipython3",
   "version": "3.7.1"
  }
 },
 "nbformat": 4,
 "nbformat_minor": 2
}
