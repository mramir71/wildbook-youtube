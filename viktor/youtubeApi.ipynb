{
 "cells": [
  {
   "cell_type": "code",
   "execution_count": 1,
   "metadata": {},
   "outputs": [],
   "source": [
    "from classes.YouTube import YouTube\n",
    "from classes.Database import Database\n",
    "from misc import readKey"
   ]
  },
  {
   "cell_type": "code",
   "execution_count": 6,
   "metadata": {},
   "outputs": [],
   "source": [
    "DB_KEY = readKey(\"db.key.txt\")\n",
    "db = Database(DB_KEY, 'youtube')\n",
    "\n",
    "YT_KEY = readKey('yt.key.txt')\n",
    "yt = YouTube(YT_KEY, db)"
   ]
  },
  {
   "cell_type": "code",
   "execution_count": 7,
   "metadata": {},
   "outputs": [
    {
     "data": {
      "text/plain": [
       "[{'id': {'kind': 'youtube#video', 'videoId': '_SXuzqbL1d8'},\n",
       "  'snippet': {'publishedAt': '2019-05-19T14:28:11.000Z',\n",
       "   'channelId': 'UC2DDp6PW8zrCUzLY8EPW-jA',\n",
       "   'title': 'WILDLIFE WARRIORS S1 E7 &#39;GREVY&#39;S ZEBRAS IN KENYA&#39;',\n",
       "   'description': \"The zebra is one of Africa's most iconic species - but did you know that the Grevy's Zebra is unique to Kenya and Ethiopia? It's the most endangered zebra ...\"},\n",
       "  'url': 'https://youtu.be/_SXuzqbL1d8'}]"
      ]
     },
     "execution_count": 7,
     "metadata": {},
     "output_type": "execute_result"
    }
   ],
   "source": [
    "yt.search('Grevy Zebra', limit=1, fields=True, details=False, links=True, videoOnly=True, save=True)"
   ]
  },
  {
   "cell_type": "code",
   "execution_count": null,
   "metadata": {
    "scrolled": false
   },
   "outputs": [],
   "source": []
  },
  {
   "cell_type": "code",
   "execution_count": null,
   "metadata": {},
   "outputs": [],
   "source": []
  },
  {
   "cell_type": "code",
   "execution_count": 8,
   "metadata": {
    "scrolled": false
   },
   "outputs": [
    {
     "data": {
      "text/plain": [
       "[{'_id': 'bNYXweQ81vI',\n",
       "  'id': {'kind': 'youtube#video', 'videoId': 'bNYXweQ81vI'},\n",
       "  'snippet': {'publishedAt': '2015-01-14T00:17:13.000Z',\n",
       "   'title': 'Giraffes for Kids: Learn about Giraffes - FreeSchool',\n",
       "   'description': \"https://patreon.com/freeschool - Help support more content like this! Let's take a look at giraffes and learn a little more about this familiar yet exotic animal.\"},\n",
       "  'url': 'https://youtu.be/bNYXweQ81vI'},\n",
       " {'_id': 'E9tpPWK7sag',\n",
       "  'id': {'kind': 'youtube#video', 'videoId': 'E9tpPWK7sag'},\n",
       "  'snippet': {'publishedAt': '2017-01-24T13:00:05.000Z',\n",
       "   'title': 'Investigating the Mysterious Whale Sharks of Mafia Island | National Geographic',\n",
       "   'description': \"The whale sharks of Mafia Island are unusual because they don't migrate—and researchers want to know why. ➡ Subscribe: http://bit.ly/NatGeoSubscribe About ...\"},\n",
       "  'url': 'https://youtu.be/E9tpPWK7sag'},\n",
       " {'_id': '8U48NfAEEGQ',\n",
       "  'id': {'kind': 'youtube#video', 'videoId': '8U48NfAEEGQ'},\n",
       "  'snippet': {'publishedAt': '2015-05-05T10:19:51.000Z',\n",
       "   'title': 'G I A N T S - Whale sharks of Isla Mujeres',\n",
       "   'description': 'The Yucatan peninsula is one of the busiest tourist destinations in the world and every year just offshore from Cancun, the largest fish in the ocean aggregates in ...'},\n",
       "  'url': 'https://youtu.be/8U48NfAEEGQ'},\n",
       " {'_id': '8IJFJDrY2CY',\n",
       "  'id': {'kind': 'youtube#video', 'videoId': '8IJFJDrY2CY'},\n",
       "  'snippet': {'publishedAt': '2016-07-17T13:00:00.000Z',\n",
       "   'title': 'GoPro Awards: Ocean Ramsey and a Whale Shark',\n",
       "   'description': 'Captured and submitted by GoPro Awards recipients Ocean Ramsey and Juan Oliphant. Join shark biologist and freediver Ocean Ramsey as she films with ...'},\n",
       "  'url': 'https://youtu.be/8IJFJDrY2CY'},\n",
       " {'_id': 'K4D89vyb4As',\n",
       "  'id': {'kind': 'youtube#video', 'videoId': 'K4D89vyb4As'},\n",
       "  'snippet': {'publishedAt': '2019-02-14T19:30:00.000Z',\n",
       "   'title': 'Swimming in the Ocean with Whale Sharks and Manta Rays!',\n",
       "   'description': 'The Ninja Kids go swimming with the biggest sharks in the world. Whale Sharks are amazing animals. We also saw Manta Rays. This video is part of our family ...'},\n",
       "  'url': 'https://youtu.be/K4D89vyb4As'},\n",
       " {'_id': '_SXuzqbL1d8',\n",
       "  'id': {'kind': 'youtube#video', 'videoId': '_SXuzqbL1d8'},\n",
       "  'snippet': {'publishedAt': '2019-05-19T14:28:11.000Z',\n",
       "   'channelId': 'UC2DDp6PW8zrCUzLY8EPW-jA',\n",
       "   'title': 'WILDLIFE WARRIORS S1 E7 &#39;GREVY&#39;S ZEBRAS IN KENYA&#39;',\n",
       "   'description': \"The zebra is one of Africa's most iconic species - but did you know that the Grevy's Zebra is unique to Kenya and Ethiopia? It's the most endangered zebra ...\"},\n",
       "  'url': 'https://youtu.be/_SXuzqbL1d8'}]"
      ]
     },
     "execution_count": 8,
     "metadata": {},
     "output_type": "execute_result"
    }
   ],
   "source": [
    "db.getAllVideos()"
   ]
  },
  {
   "cell_type": "code",
   "execution_count": null,
   "metadata": {},
   "outputs": [],
   "source": []
  },
  {
   "cell_type": "code",
   "execution_count": null,
   "metadata": {},
   "outputs": [],
   "source": []
  },
  {
   "cell_type": "code",
   "execution_count": null,
   "metadata": {},
   "outputs": [],
   "source": []
  }
 ],
 "metadata": {
  "kernelspec": {
   "display_name": "Python 3",
   "language": "python",
   "name": "python3"
  },
  "language_info": {
   "codemirror_mode": {
    "name": "ipython",
    "version": 3
   },
   "file_extension": ".py",
   "mimetype": "text/x-python",
   "name": "python",
   "nbconvert_exporter": "python",
   "pygments_lexer": "ipython3",
   "version": "3.7.1"
  }
 },
 "nbformat": 4,
 "nbformat_minor": 2
}
