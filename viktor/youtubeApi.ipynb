{
 "cells": [
  {
   "cell_type": "code",
   "execution_count": 1,
   "metadata": {},
   "outputs": [],
   "source": [
    "from googleapiclient.discovery import build\n",
    "\n",
    "# Reading DEVELOPER_KEY from key.txt\n",
    "def readKey(filename):\n",
    "    key = None\n",
    "    try:\n",
    "        f = open(filename, \"r\")\n",
    "        contents = f.read()\n",
    "        if (contents == ''):\n",
    "            raise\n",
    "        else:\n",
    "            key = contents\n",
    "    except:\n",
    "        print(\"Please paste your API key in '\" + filename + \"' file\")\n",
    "        f = open(filename, \"w\")\n",
    "    f.close()\n",
    "    return key\n",
    "\n",
    "DEVELOPER_KEY = readKey('key.txt')\n",
    "YOUTUBE_API_SERVICE_NAME = 'youtube'\n",
    "YOUTUBE_API_VERSION = 'v3'"
   ]
  },
  {
   "cell_type": "code",
   "execution_count": 7,
   "metadata": {},
   "outputs": [
    {
     "name": "stdout",
     "output_type": "stream",
     "text": [
      "2019-06-25T21:11:00.020-0500 I CONTROL  [main] Automatically disabling TLS 1.0, to force-enable TLS 1.0 specify --sslDisabledProtocols 'none'\n",
      "2019-06-25T21:11:00.033-0500 I CONTROL  [initandlisten] MongoDB starting : pid=88011 port=27017 dbpath=/data/db 64-bit host=Viktors-MacBook-Pro.local\n",
      "2019-06-25T21:11:00.033-0500 I CONTROL  [initandlisten] db version v4.0.10\n",
      "2019-06-25T21:11:00.033-0500 I CONTROL  [initandlisten] git version: c389e7f69f637f7a1ac3cc9fae843b635f20b766\n",
      "2019-06-25T21:11:00.033-0500 I CONTROL  [initandlisten] allocator: system\n",
      "2019-06-25T21:11:00.033-0500 I CONTROL  [initandlisten] modules: none\n",
      "2019-06-25T21:11:00.033-0500 I CONTROL  [initandlisten] build environment:\n",
      "2019-06-25T21:11:00.033-0500 I CONTROL  [initandlisten]     distarch: x86_64\n",
      "2019-06-25T21:11:00.033-0500 I CONTROL  [initandlisten]     target_arch: x86_64\n",
      "2019-06-25T21:11:00.033-0500 I CONTROL  [initandlisten] options: {}\n",
      "2019-06-25T21:11:00.034-0500 I STORAGE  [initandlisten] exception in initAndListen: IllegalOperation: Attempted to create a lock file on a read-only directory: /data/db, terminating\n",
      "2019-06-25T21:11:00.034-0500 I NETWORK  [initandlisten] shutdown: going to close listening sockets...\n",
      "2019-06-25T21:11:00.034-0500 I NETWORK  [initandlisten] removing socket file: /tmp/mongodb-27017.sock\n",
      "2019-06-25T21:11:00.034-0500 I CONTROL  [initandlisten] now exiting\n",
      "2019-06-25T21:11:00.034-0500 I CONTROL  [initandlisten] shutting down with code:100\n"
     ]
    }
   ],
   "source": [
    "!mongod"
   ]
  },
  {
   "cell_type": "code",
   "execution_count": 2,
   "metadata": {},
   "outputs": [],
   "source": [
    "class YouTube:\n",
    "    def __init__(self, KEY):\n",
    "        self._YOUTUBE_API_SERVICE_NAME = 'youtube'\n",
    "        self._YOUTUBE_API_VERSION = 'v3'\n",
    "        self._KEY = KEY\n",
    "        self.youtube = build(self._YOUTUBE_API_SERVICE_NAME, self._YOUTUBE_API_VERSION, \n",
    "                             developerKey=self._KEY)\n",
    "        \n",
    "        self.lastSearch = None\n",
    "        self.results = []\n",
    "    \n",
    "    # Uses youtube.search() API method\n",
    "    def search(self, q, limit=1, details=False, links=False, videoOnly=False):\n",
    "        ''' \n",
    "        q - search query, (ex. \"Whale Shark\")\n",
    "        limit - number of results (ex. 10 or 100)\n",
    "        details - Retrieves more detailed information about the video (ex. True, False)\n",
    "                  Cannot be True when videoOnly=False.\n",
    "        links - Generate YouTube video links for each search result. \n",
    "                Can be found in video['url'] (ex. True, False) \n",
    "        videosOnly - Return only videos from the result (ex. True, False)\n",
    "        '''\n",
    "        if (details and not videoOnly):\n",
    "            return print('You cannot use details=True and videoOnly=False together. But any other combination is valid.')\n",
    "        \n",
    "        searchResult = self.youtube.search().list(\n",
    "            q=q,\n",
    "            part='snippet',\n",
    "            fields='items(id,snippet(publishedAt,title,description))',\n",
    "            type='video' if videoOnly else 'video,channel,playlist',\n",
    "            maxResults=limit\n",
    "        ).execute()\n",
    "        \n",
    "        self.lastSearch = searchResult['items']\n",
    "        \n",
    "        # Generating YouTube video links\n",
    "        if (links):\n",
    "            for item in self.lastSearch:\n",
    "                if (item['id']['kind'] == 'youtube#video'):\n",
    "                    item['url'] = 'https://youtu.be/' + item['id']['videoId']\n",
    "                elif (item['id']['kind'] == 'youtube#channel'):\n",
    "                    item['url'] = 'https://www.youtube.com/channel/' + item['id']['channelId']\n",
    "                    \n",
    "        # Quering more details for this result\n",
    "        if (details):\n",
    "            for item in self.lastSearch:\n",
    "                details = self.videos(item['id']['videoId'])\n",
    "                for prop in details[0]:\n",
    "                    try:\n",
    "                        item[prop].update(details[0][prop])\n",
    "                    except KeyError:\n",
    "                        item[prop] = details[0][prop]\n",
    "                \n",
    "                \n",
    "        # Appeding result to all previous search results\n",
    "        self.results = self.lastSearch + self.results\n",
    "        return self.lastSearch\n",
    "    \n",
    "    # Uses youtube.videos() API method\n",
    "    def videos(self, id, limit=1, links=False):\n",
    "        searchResult = self.youtube.videos().list(\n",
    "            part='snippet,statistics',\n",
    "            fields='items(snippet(tags),statistics)',\n",
    "            id=id\n",
    "        ).execute()\n",
    "        \n",
    "        return searchResult['items']\n",
    "\n",
    "yt = YouTube(DEVELOPER_KEY)"
   ]
  },
  {
   "cell_type": "code",
   "execution_count": 3,
   "metadata": {},
   "outputs": [
    {
     "data": {
      "text/plain": [
       "[{'id': {'kind': 'youtube#video', 'videoId': 'E9tpPWK7sag'},\n",
       "  'snippet': {'publishedAt': '2017-01-24T13:00:05.000Z',\n",
       "   'title': 'Investigating the Mysterious Whale Sharks of Mafia Island | National Geographic',\n",
       "   'description': \"The whale sharks of Mafia Island are unusual because they don't migrate—and researchers want to know why. ➡ Subscribe: http://bit.ly/NatGeoSubscribe About ...\",\n",
       "   'tags': ['whale sharks',\n",
       "    'Mafia Island',\n",
       "    'Tanzania',\n",
       "    'endangered species',\n",
       "    'sharks',\n",
       "    'animal migration',\n",
       "    'fish',\n",
       "    'Marine Megafauna Foundation',\n",
       "    'research',\n",
       "    'ecosystem',\n",
       "    'sustained fisheries',\n",
       "    'mackerel',\n",
       "    'tuna',\n",
       "    'conservation',\n",
       "    'national geographic',\n",
       "    'nat geo',\n",
       "    'natgeo',\n",
       "    'animals',\n",
       "    'wildlife',\n",
       "    'science',\n",
       "    'explore',\n",
       "    'discover',\n",
       "    'survival',\n",
       "    'nature',\n",
       "    'documentary',\n",
       "    'PLivjPDlt6ApRfQqtRw7JkGCLvezGeMBB2',\n",
       "    'PLivjPDlt6ApRiBHpsyXWG22G8RPNZ6jlb',\n",
       "    'PLivjPDlt6ApTjurXykShuUqp7LQcj9s8s']},\n",
       "  'url': 'https://youtu.be/E9tpPWK7sag',\n",
       "  'statistics': {'viewCount': '432996',\n",
       "   'likeCount': '2783',\n",
       "   'dislikeCount': '106',\n",
       "   'favoriteCount': '0',\n",
       "   'commentCount': '179'}},\n",
       " {'id': {'kind': 'youtube#video', 'videoId': '8U48NfAEEGQ'},\n",
       "  'snippet': {'publishedAt': '2015-05-05T10:19:51.000Z',\n",
       "   'title': 'G I A N T S - Whale sharks of Isla Mujeres',\n",
       "   'description': 'The Yucatan peninsula is one of the busiest tourist destinations in the world and every year just offshore from Cancun, the largest fish in the ocean aggregates in ...',\n",
       "   'tags': ['whaleshark',\n",
       "    'shark',\n",
       "    'Whale Shark (Organism Classification)',\n",
       "    'Isla Mujeres (City/Town/Village)',\n",
       "    'Yucatán Peninsula (Cyclone-affected Area)',\n",
       "    'Mexico (Country)',\n",
       "    'Caribbean Sea (Body Of Water)',\n",
       "    'Coral Reef (Geographical Feature Category)',\n",
       "    'Tourism (Interest)',\n",
       "    'Ecotourism (Film Subject)',\n",
       "    'Tourist Destination',\n",
       "    'Swimming',\n",
       "    'Snorkeling (Industry)',\n",
       "    'Island (Geographical Feature Category)',\n",
       "    'Cancún (City/Town/Village)',\n",
       "    'Diving',\n",
       "    'Shark (Film)',\n",
       "    'Underwater']},\n",
       "  'url': 'https://youtu.be/8U48NfAEEGQ',\n",
       "  'statistics': {'viewCount': '152944',\n",
       "   'likeCount': '741',\n",
       "   'dislikeCount': '33',\n",
       "   'favoriteCount': '0',\n",
       "   'commentCount': '52'}}]"
      ]
     },
     "execution_count": 3,
     "metadata": {},
     "output_type": "execute_result"
    }
   ],
   "source": [
    "yt.search('whale shark', limit=2, details=True, links=True, videoOnly=True)"
   ]
  },
  {
   "cell_type": "code",
   "execution_count": 4,
   "metadata": {},
   "outputs": [
    {
     "data": {
      "text/plain": [
       "[{'id': {'kind': 'youtube#video', 'videoId': 'E9tpPWK7sag'},\n",
       "  'snippet': {'publishedAt': '2017-01-24T13:00:05.000Z',\n",
       "   'title': 'Investigating the Mysterious Whale Sharks of Mafia Island | National Geographic',\n",
       "   'description': \"The whale sharks of Mafia Island are unusual because they don't migrate—and researchers want to know why. ➡ Subscribe: http://bit.ly/NatGeoSubscribe About ...\"},\n",
       "  'url': 'https://youtu.be/E9tpPWK7sag'}]"
      ]
     },
     "execution_count": 4,
     "metadata": {},
     "output_type": "execute_result"
    }
   ],
   "source": [
    "yt.search('whale shark', limit=1, details=False, links=True, videoOnly=True)"
   ]
  },
  {
   "cell_type": "code",
   "execution_count": 6,
   "metadata": {},
   "outputs": [
    {
     "data": {
      "text/plain": [
       "[{'snippet': {'tags': ['whaleshark',\n",
       "    'shark',\n",
       "    'Whale Shark (Organism Classification)',\n",
       "    'Isla Mujeres (City/Town/Village)',\n",
       "    'Yucatán Peninsula (Cyclone-affected Area)',\n",
       "    'Mexico (Country)',\n",
       "    'Caribbean Sea (Body Of Water)',\n",
       "    'Coral Reef (Geographical Feature Category)',\n",
       "    'Tourism (Interest)',\n",
       "    'Ecotourism (Film Subject)',\n",
       "    'Tourist Destination',\n",
       "    'Swimming',\n",
       "    'Snorkeling (Industry)',\n",
       "    'Island (Geographical Feature Category)',\n",
       "    'Cancún (City/Town/Village)',\n",
       "    'Diving',\n",
       "    'Shark (Film)',\n",
       "    'Underwater']},\n",
       "  'statistics': {'viewCount': '152944',\n",
       "   'likeCount': '741',\n",
       "   'dislikeCount': '33',\n",
       "   'favoriteCount': '0',\n",
       "   'commentCount': '52'}}]"
      ]
     },
     "execution_count": 6,
     "metadata": {},
     "output_type": "execute_result"
    }
   ],
   "source": [
    "yt.videos('8U48NfAEEGQ')"
   ]
  },
  {
   "cell_type": "code",
   "execution_count": null,
   "metadata": {},
   "outputs": [],
   "source": []
  }
 ],
 "metadata": {
  "kernelspec": {
   "display_name": "Python 3",
   "language": "python",
   "name": "python3"
  },
  "language_info": {
   "codemirror_mode": {
    "name": "ipython",
    "version": 3
   },
   "file_extension": ".py",
   "mimetype": "text/x-python",
   "name": "python",
   "nbconvert_exporter": "python",
   "pygments_lexer": "ipython3",
   "version": "3.7.1"
  }
 },
 "nbformat": 4,
 "nbformat_minor": 2
}
