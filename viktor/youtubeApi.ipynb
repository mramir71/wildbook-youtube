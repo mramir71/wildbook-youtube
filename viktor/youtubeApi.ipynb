{
 "cells": [
  {
   "cell_type": "code",
   "execution_count": 37,
   "metadata": {},
   "outputs": [],
   "source": [
    "from googleapiclient.discovery import build\n",
    "\n",
    "# Reading DEVELOPER_KEY from key.txt\n",
    "def readKey(filename):\n",
    "    key = None\n",
    "    try:\n",
    "        f = open(filename, \"r\")\n",
    "        contents = f.read()\n",
    "        if (contents == ''):\n",
    "            raise\n",
    "        else:\n",
    "            key = contents\n",
    "    except:\n",
    "        print(\"Please paste your API key in '\" + filename + \"' file\")\n",
    "        f = open(filename, \"w\")\n",
    "    f.close()\n",
    "    return key\n",
    "\n",
    "DEVELOPER_KEY = readKey('key.txt')\n",
    "YOUTUBE_API_SERVICE_NAME = 'youtube'\n",
    "YOUTUBE_API_VERSION = 'v3'"
   ]
  },
  {
   "cell_type": "code",
   "execution_count": null,
   "metadata": {},
   "outputs": [],
   "source": []
  },
  {
   "cell_type": "code",
   "execution_count": 109,
   "metadata": {},
   "outputs": [],
   "source": [
    "class YouTube:\n",
    "    def __init__(self, KEY):\n",
    "        self._YOUTUBE_API_SERVICE_NAME = 'youtube'\n",
    "        self._YOUTUBE_API_VERSION = 'v3'\n",
    "        self._KEY = KEY\n",
    "        self.searchOptions = {\n",
    "            'part': 'snippet',\n",
    "            'fields': 'items(id,snippet(publishedAt,title,description))',\n",
    "        }\n",
    "        self.youtube = build(self._YOUTUBE_API_SERVICE_NAME, self._YOUTUBE_API_VERSION, \n",
    "                             developerKey=self._KEY)\n",
    "        \n",
    "        self.lastSearch = None\n",
    "    \n",
    "    def search(self, q, maxResults=1, addLinks=False):\n",
    "        ''' q - search query, (ex. \"Whale Shark\")\n",
    "        maxResults - number of results (ex. 10 or 100)\n",
    "        addLinks - Generate YouTube video links for each search result. \n",
    "                   Can be found in video['url'] (ex. True, False) '''\n",
    "        \n",
    "        searchResult = youtube.search().list(\n",
    "            q=q,\n",
    "            part=self.searchOptions['part'],\n",
    "            fields=self.searchOptions['fields'],\n",
    "            maxResults=maxResults\n",
    "          ).execute()\n",
    "        \n",
    "        self.lastSearch = searchResult['items']\n",
    "        \n",
    "        # Generating YouTube video links\n",
    "        if (addLinks):\n",
    "            for video in self.lastSearch:\n",
    "                video['url'] = 'https://youtu.be/' + video['id']['videoId']\n",
    "\n",
    "yt = YouTube(DEVELOPER_KEY)"
   ]
  },
  {
   "cell_type": "code",
   "execution_count": 110,
   "metadata": {},
   "outputs": [
    {
     "data": {
      "text/plain": [
       "[{'id': {'kind': 'youtube#video', 'videoId': '_UbDeqPdUek'},\n",
       "  'snippet': {'publishedAt': '2015-08-26T12:16:58.000Z',\n",
       "   'title': 'Cubs Meet Adult Tiger for the First Time | Tigers About The House | BBC Earth',\n",
       "   'description': \"As the cubs grow up Giles Clark thinks it's time for Spot and Stripe to start socialising with the adult tigers. Taken from Tigers About The House. Subscribe: ...\"}}]"
      ]
     },
     "execution_count": 110,
     "metadata": {},
     "output_type": "execute_result"
    }
   ],
   "source": [
    "yt.search('tiger',1)\n",
    "yt.lastSearch"
   ]
  },
  {
   "cell_type": "code",
   "execution_count": null,
   "metadata": {},
   "outputs": [],
   "source": []
  },
  {
   "cell_type": "code",
   "execution_count": null,
   "metadata": {},
   "outputs": [],
   "source": []
  }
 ],
 "metadata": {
  "kernelspec": {
   "display_name": "Python 3",
   "language": "python",
   "name": "python3"
  },
  "language_info": {
   "codemirror_mode": {
    "name": "ipython",
    "version": 3
   },
   "file_extension": ".py",
   "mimetype": "text/x-python",
   "name": "python",
   "nbconvert_exporter": "python",
   "pygments_lexer": "ipython3",
   "version": "3.7.1"
  }
 },
 "nbformat": 4,
 "nbformat_minor": 2
}
