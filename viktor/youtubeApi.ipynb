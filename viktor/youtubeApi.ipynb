{
 "cells": [
  {
   "cell_type": "code",
   "execution_count": 1,
   "metadata": {},
   "outputs": [],
   "source": [
    "from googleapiclient.discovery import build\n",
    "\n",
    "# Reading a key from *.key.txt\n",
    "def readKey(filename):\n",
    "    key = None\n",
    "    try:\n",
    "        f = open(filename, \"r\")\n",
    "        contents = f.read()\n",
    "        if (contents == ''):\n",
    "            raise\n",
    "        else:\n",
    "            key = contents\n",
    "    except:\n",
    "        print(\"Please paste your API key in '\" + filename + \"' file\")\n",
    "        f = open(filename, \"w\")\n",
    "    f.close()\n",
    "    return key"
   ]
  },
  {
   "cell_type": "code",
   "execution_count": null,
   "metadata": {},
   "outputs": [],
   "source": []
  },
  {
   "cell_type": "code",
   "execution_count": 16,
   "metadata": {},
   "outputs": [],
   "source": [
    "from pymongo import MongoClient\n",
    "\n",
    "class DB:\n",
    "    def __init__(self, key, database):\n",
    "        self.collection = 'videos'\n",
    "        self.client = MongoClient(key)\n",
    "        self.db = self.client[database]\n",
    "        \n",
    "    def addVideo(self, id, payload):\n",
    "        self.db[self.collection].update_one({'_id': id}, {\"$set\": payload}, upsert=True)\n",
    "        \n",
    "    def getAllVideos(self):\n",
    "        res = self.db[self.collection].find()\n",
    "        return [x for x in res]\n",
    "    \n",
    "    def clearCollection(self, msg=''):\n",
    "        if (msg == 'yes'):\n",
    "            self.db[self.collection].delete_many({})\n",
    "            print(\"Colelction was cleared.\")\n",
    "        else:\n",
    "            print(\"Pass 'yes' into clearCollection() method to really clear it.\")\n",
    "            \n",
    "    def close(self):\n",
    "        self.client.close()"
   ]
  },
  {
   "cell_type": "code",
   "execution_count": null,
   "metadata": {},
   "outputs": [],
   "source": []
  },
  {
   "cell_type": "code",
   "execution_count": 3,
   "metadata": {},
   "outputs": [],
   "source": [
    "class YouTube:\n",
    "    def __init__(self, KEY, db=None):\n",
    "        self._YOUTUBE_API_SERVICE_NAME = 'youtube'\n",
    "        self._YOUTUBE_API_VERSION = 'v3'\n",
    "        self._KEY = KEY\n",
    "        self.youtube = build(self._YOUTUBE_API_SERVICE_NAME, self._YOUTUBE_API_VERSION, \n",
    "                             developerKey=self._KEY)\n",
    "        \n",
    "        self.lastSearch = None\n",
    "        self.results = []\n",
    "        \n",
    "        self.db = db\n",
    "    \n",
    "    # Uses youtube.search() API method\n",
    "    def search(self, q, limit=1, details=False, links=False, videoOnly=False, save=False):\n",
    "        ''' \n",
    "        q - search query, (ex. \"Whale Shark\")\n",
    "        limit - number of results (ex. 10 or 100)\n",
    "        details - Retrieves more detailed information about the video (ex. True, False)\n",
    "                  Cannot be True when videoOnly=False.\n",
    "        links - Generate YouTube video links for each search result. \n",
    "                Can be found in video['url'] (ex. True, False) \n",
    "        videosOnly - Return only videos from the result (ex. True, False)\n",
    "        save - Saves all retrieved videos to database (ex. True, False)\n",
    "        '''\n",
    "        if (details and not videoOnly):\n",
    "            return print('You cannot use details=True and videoOnly=False together. But any other combination is valid.')\n",
    "        \n",
    "        if (save):\n",
    "            if (not self.db):\n",
    "                save = False\n",
    "                print(\"Please provide 'db' argument with an instance to database to save video(s).\")\n",
    "        \n",
    "        # Quering the result\n",
    "        searchResult = self.youtube.search().list(\n",
    "            q=q,\n",
    "            part='snippet',\n",
    "            fields='items(id,snippet(publishedAt,title,description))',\n",
    "            type='video' if videoOnly else 'video,channel,playlist',\n",
    "            maxResults=limit\n",
    "        ).execute()\n",
    "        self.lastSearch = searchResult['items']\n",
    "                \n",
    "        \n",
    "        # Handling additional parameters\n",
    "        if (details or save or links):\n",
    "            for item in self.lastSearch:\n",
    "                \n",
    "                # Quering more details for this result\n",
    "                if (details):\n",
    "                    details = self.videos(item['id']['videoId'])\n",
    "                    for prop in details[0]:\n",
    "                        try:\n",
    "                            item[prop].update(details[0][prop])\n",
    "                        except KeyError:\n",
    "                            item[prop] = details[0][prop]\n",
    "                            \n",
    "                # Generating YouTube video links\n",
    "                if (links):\n",
    "                    if (item['id']['kind'] == 'youtube#video'):\n",
    "                        item['url'] = 'https://youtu.be/' + item['id']['videoId']\n",
    "                    elif (item['id']['kind'] == 'youtube#channel'):\n",
    "                        item['url'] = 'https://www.youtube.com/channel/' + item['id']['channelId']\n",
    "\n",
    "                # Saving item in database\n",
    "                if (save):\n",
    "                    self.db.addVideo(item['id']['videoId'], item)\n",
    "                    \n",
    "\n",
    "        # Appeding result to all previous search results\n",
    "        self.results = self.lastSearch + self.results\n",
    "        return self.lastSearch\n",
    "    \n",
    "    # Uses youtube.videos() API method\n",
    "    def videos(self, id, limit=1, links=False):\n",
    "        searchResult = self.youtube.videos().list(\n",
    "            part='snippet,statistics',\n",
    "            fields='items(snippet(tags),statistics)',\n",
    "            id=id\n",
    "        ).execute()\n",
    "        \n",
    "        return searchResult['items']"
   ]
  },
  {
   "cell_type": "code",
   "execution_count": null,
   "metadata": {},
   "outputs": [],
   "source": []
  },
  {
   "cell_type": "code",
   "execution_count": 17,
   "metadata": {},
   "outputs": [],
   "source": [
    "DB_KEY = readKey(\"db.key.txt\")\n",
    "db = DB(DB_KEY, 'youtube')\n",
    "\n",
    "YT_KEY = readKey('yt.key.txt')\n",
    "yt = YouTube(YT_KEY, db)"
   ]
  },
  {
   "cell_type": "code",
   "execution_count": null,
   "metadata": {},
   "outputs": [],
   "source": []
  },
  {
   "cell_type": "code",
   "execution_count": 14,
   "metadata": {
    "scrolled": false
   },
   "outputs": [
    {
     "data": {
      "text/plain": [
       "[{'id': {'kind': 'youtube#video', 'videoId': '_UbDeqPdUek'},\n",
       "  'snippet': {'publishedAt': '2015-08-26T12:16:58.000Z',\n",
       "   'title': 'Cubs Meet Adult Tiger for the First Time | Tigers About The House | BBC Earth',\n",
       "   'description': \"As the cubs grow up Giles Clark thinks it's time for Spot and Stripe to start socialising with the adult tigers. Taken from Tigers About The House. Subscribe: ...\"},\n",
       "  'url': 'https://youtu.be/_UbDeqPdUek'}]"
      ]
     },
     "execution_count": 14,
     "metadata": {},
     "output_type": "execute_result"
    }
   ],
   "source": [
    "yt.search('tiger', limit=1, details=False, links=True, videoOnly=True, save=False)"
   ]
  },
  {
   "cell_type": "code",
   "execution_count": null,
   "metadata": {},
   "outputs": [],
   "source": []
  },
  {
   "cell_type": "code",
   "execution_count": 15,
   "metadata": {
    "scrolled": false
   },
   "outputs": [
    {
     "data": {
      "text/plain": [
       "[{'_id': 'bNYXweQ81vI',\n",
       "  'id': {'kind': 'youtube#video', 'videoId': 'bNYXweQ81vI'},\n",
       "  'snippet': {'publishedAt': '2015-01-14T00:17:13.000Z',\n",
       "   'title': 'Giraffes for Kids: Learn about Giraffes - FreeSchool',\n",
       "   'description': \"https://patreon.com/freeschool - Help support more content like this! Let's take a look at giraffes and learn a little more about this familiar yet exotic animal.\"},\n",
       "  'url': 'https://youtu.be/bNYXweQ81vI'},\n",
       " {'_id': 'E9tpPWK7sag',\n",
       "  'id': {'kind': 'youtube#video', 'videoId': 'E9tpPWK7sag'},\n",
       "  'snippet': {'publishedAt': '2017-01-24T13:00:05.000Z',\n",
       "   'title': 'Investigating the Mysterious Whale Sharks of Mafia Island | National Geographic',\n",
       "   'description': \"The whale sharks of Mafia Island are unusual because they don't migrate—and researchers want to know why. ➡ Subscribe: http://bit.ly/NatGeoSubscribe About ...\"},\n",
       "  'url': 'https://youtu.be/E9tpPWK7sag'},\n",
       " {'_id': '8U48NfAEEGQ',\n",
       "  'id': {'kind': 'youtube#video', 'videoId': '8U48NfAEEGQ'},\n",
       "  'snippet': {'publishedAt': '2015-05-05T10:19:51.000Z',\n",
       "   'title': 'G I A N T S - Whale sharks of Isla Mujeres',\n",
       "   'description': 'The Yucatan peninsula is one of the busiest tourist destinations in the world and every year just offshore from Cancun, the largest fish in the ocean aggregates in ...'},\n",
       "  'url': 'https://youtu.be/8U48NfAEEGQ'},\n",
       " {'_id': '8IJFJDrY2CY',\n",
       "  'id': {'kind': 'youtube#video', 'videoId': '8IJFJDrY2CY'},\n",
       "  'snippet': {'publishedAt': '2016-07-17T13:00:00.000Z',\n",
       "   'title': 'GoPro Awards: Ocean Ramsey and a Whale Shark',\n",
       "   'description': 'Captured and submitted by GoPro Awards recipients Ocean Ramsey and Juan Oliphant. Join shark biologist and freediver Ocean Ramsey as she films with ...'},\n",
       "  'url': 'https://youtu.be/8IJFJDrY2CY'},\n",
       " {'_id': 'K4D89vyb4As',\n",
       "  'id': {'kind': 'youtube#video', 'videoId': 'K4D89vyb4As'},\n",
       "  'snippet': {'publishedAt': '2019-02-14T19:30:00.000Z',\n",
       "   'title': 'Swimming in the Ocean with Whale Sharks and Manta Rays!',\n",
       "   'description': 'The Ninja Kids go swimming with the biggest sharks in the world. Whale Sharks are amazing animals. We also saw Manta Rays. This video is part of our family ...'},\n",
       "  'url': 'https://youtu.be/K4D89vyb4As'}]"
      ]
     },
     "execution_count": 15,
     "metadata": {},
     "output_type": "execute_result"
    }
   ],
   "source": [
    "db.getAllVideos()"
   ]
  },
  {
   "cell_type": "code",
   "execution_count": 9,
   "metadata": {},
   "outputs": [],
   "source": [
    "# db.clearCollection('yes')"
   ]
  },
  {
   "cell_type": "code",
   "execution_count": 18,
   "metadata": {},
   "outputs": [],
   "source": [
    "db.close()"
   ]
  },
  {
   "cell_type": "code",
   "execution_count": null,
   "metadata": {},
   "outputs": [],
   "source": []
  }
 ],
 "metadata": {
  "kernelspec": {
   "display_name": "Python 3",
   "language": "python",
   "name": "python3"
  },
  "language_info": {
   "codemirror_mode": {
    "name": "ipython",
    "version": 3
   },
   "file_extension": ".py",
   "mimetype": "text/x-python",
   "name": "python",
   "nbconvert_exporter": "python",
   "pygments_lexer": "ipython3",
   "version": "3.7.1"
  }
 },
 "nbformat": 4,
 "nbformat_minor": 2
}
